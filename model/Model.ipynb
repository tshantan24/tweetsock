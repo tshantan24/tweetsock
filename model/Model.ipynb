{
 "cells": [
  {
   "cell_type": "code",
   "execution_count": 1,
   "metadata": {},
   "outputs": [],
   "source": [
    "import numpy as np\n",
    "import pandas as pd\n",
    "import tensorflow as tf\n",
    "from tensorflow.keras.models import Model\n",
    "from tensorflow.keras.layers import Dense, Input, Dropout, LSTM, Activation, Embedding\n",
    "from tensorflow.keras.preprocessing import sequence\n",
    "from tensorflow.keras.preprocessing.text import one_hot, Tokenizer\n",
    "from tensorflow.keras.initializers import glorot_uniform"
   ]
  },
  {
   "cell_type": "markdown",
   "metadata": {},
   "source": [
    "# Loading the Dataset"
   ]
  },
  {
   "cell_type": "code",
   "execution_count": 2,
   "metadata": {
    "scrolled": true
   },
   "outputs": [
    {
     "data": {
      "text/html": [
       "<div>\n",
       "<style scoped>\n",
       "    .dataframe tbody tr th:only-of-type {\n",
       "        vertical-align: middle;\n",
       "    }\n",
       "\n",
       "    .dataframe tbody tr th {\n",
       "        vertical-align: top;\n",
       "    }\n",
       "\n",
       "    .dataframe thead th {\n",
       "        text-align: right;\n",
       "    }\n",
       "</style>\n",
       "<table border=\"1\" class=\"dataframe\">\n",
       "  <thead>\n",
       "    <tr style=\"text-align: right;\">\n",
       "      <th></th>\n",
       "      <th>Handle</th>\n",
       "      <th>Party</th>\n",
       "      <th>Tweet - 1</th>\n",
       "      <th>Tweet - 2</th>\n",
       "      <th>Tweet - 3</th>\n",
       "      <th>Tweet - 4</th>\n",
       "      <th>Tweet - 5</th>\n",
       "      <th>Tweet - 6</th>\n",
       "      <th>Tweet - 7</th>\n",
       "      <th>Tweet - 8</th>\n",
       "      <th>...</th>\n",
       "      <th>Tweet - 191</th>\n",
       "      <th>Tweet - 192</th>\n",
       "      <th>Tweet - 193</th>\n",
       "      <th>Tweet - 194</th>\n",
       "      <th>Tweet - 195</th>\n",
       "      <th>Tweet - 196</th>\n",
       "      <th>Tweet - 197</th>\n",
       "      <th>Tweet - 198</th>\n",
       "      <th>Tweet - 199</th>\n",
       "      <th>Tweet - 200</th>\n",
       "    </tr>\n",
       "  </thead>\n",
       "  <tbody>\n",
       "    <tr>\n",
       "      <th>0</th>\n",
       "      <td>RepDarrenSoto</td>\n",
       "      <td>Democrat</td>\n",
       "      <td>Gov. @ricardorossello's comments degrading wom...</td>\n",
       "      <td>Looks like Trump will end his discriminatory c...</td>\n",
       "      <td>For several years we sought to replace our sta...</td>\n",
       "      <td>Proud to announce that @fema awarded @PolkCoun...</td>\n",
       "      <td>STURDY Bill passed @EnergyCommerce Cmte today ...</td>\n",
       "      <td>Enough is enough! Billionaire super predator J...</td>\n",
       "      <td>We continue our efforts to provide American Ci...</td>\n",
       "      <td>We're committed to defending quality &amp;amp; aff...</td>\n",
       "      <td>...</td>\n",
       "      <td>We've hosted several DREAMer interns in our of...</td>\n",
       "      <td>As 2020 nears, Puerto Rico statehood looms lar...</td>\n",
       "      <td>Honored to vote for Violence Against Women Act...</td>\n",
       "      <td>Having knocked on thousands of doors in the di...</td>\n",
       "      <td>We are committed to giving all our kids a #Hea...</td>\n",
       "      <td>Today in @EnergyCommerce we began taking actio...</td>\n",
       "      <td>Proud to work to protect the #Everglades for a...</td>\n",
       "      <td>In @EnergyCommerce today voting on ambitious @...</td>\n",
       "      <td>My honor and you can count on our support! htt...</td>\n",
       "      <td>It is 2019 and women are still paid 80 cents f...</td>\n",
       "    </tr>\n",
       "    <tr>\n",
       "      <th>1</th>\n",
       "      <td>SenJackyRosen</td>\n",
       "      <td>Democrat</td>\n",
       "      <td>Officially unveiled my bipartisan #VeteransJob...</td>\n",
       "      <td>The @USWNT couldn’t have made our country prou...</td>\n",
       "      <td>My team was happy to attend the grand opening ...</td>\n",
       "      <td>Excited to introduce the bipartisan Veterans J...</td>\n",
       "      <td>We have work to do in Nevada to increase the n...</td>\n",
       "      <td>I put my career on hold to take care of my agi...</td>\n",
       "      <td>Representation matters, and I’m proud to have ...</td>\n",
       "      <td>Productive discussion this morning with immigr...</td>\n",
       "      <td>...</td>\n",
       "      <td>Thankful for organizations like @TahoeAgency, ...</td>\n",
       "      <td>Congratulations to @ClarkCountyNV for achievin...</td>\n",
       "      <td>At this week’s @HSGAC hearing, I asked the nom...</td>\n",
       "      <td>In 2018, wildfires scorched over 230,000 acres...</td>\n",
       "      <td>7 years ago today we made a promise to protect...</td>\n",
       "      <td>I’m grateful for organizations such as these t...</td>\n",
       "      <td>Honored to take part in today’s @DreamBigNV ri...</td>\n",
       "      <td>#ClimateChange is real and we need #BoldClimat...</td>\n",
       "      <td>I’m co-sponsoring the International Climate Ac...</td>\n",
       "      <td>Honored to meet Nevada’s freshman class of cad...</td>\n",
       "    </tr>\n",
       "    <tr>\n",
       "      <th>2</th>\n",
       "      <td>RepAlLawsonJr</td>\n",
       "      <td>Democrat</td>\n",
       "      <td>Our troops are the best America has to offer –...</td>\n",
       "      <td>More than 130 million Americans live with a pr...</td>\n",
       "      <td>This is the longest period of time in history ...</td>\n",
       "      <td>The annual Capitol Fourth celebrations are a m...</td>\n",
       "      <td>Today is a chance for our nation to come toget...</td>\n",
       "      <td>Great morning speaking with the teens at Data ...</td>\n",
       "      <td>The deaths at the border are a tragedy that we...</td>\n",
       "      <td>Veteran suicide is a sustained national crisis...</td>\n",
       "      <td>...</td>\n",
       "      <td>Food stamps for 38 million low-income American...</td>\n",
       "      <td>The power of your vote! https://t.co/4ZFhSi4geT</td>\n",
       "      <td>Congrats to #FL05 #App Challenge winners #Tall...</td>\n",
       "      <td>New office for the #116thCongress. Swing by 14...</td>\n",
       "      <td>There is no one more deserving to be Speaker o...</td>\n",
       "      <td>Join me this morning for the ceremonial sweari...</td>\n",
       "      <td>Wishing you a very Merry Christmas! https://t....</td>\n",
       "      <td>The resolution is not the end of this critical...</td>\n",
       "      <td>It's unfortunate my Republican colleagues play...</td>\n",
       "      <td>I’m pleased that the House has worked to provi...</td>\n",
       "    </tr>\n",
       "    <tr>\n",
       "      <th>3</th>\n",
       "      <td>RepEspaillat</td>\n",
       "      <td>Democrat</td>\n",
       "      <td>You cannot defend such evil and @SecretaryAcos...</td>\n",
       "      <td>We must investigate the toxic culture at the @...</td>\n",
       "      <td>Congratulations US Women’s soccer team on thei...</td>\n",
       "      <td>Thank you #NYPD Hate Crimes Task Force for eff...</td>\n",
       "      <td>I’m down to go to the mat to get @asvpxrocky b...</td>\n",
       "      <td>I commend @NYGovCuomo and the New York State L...</td>\n",
       "      <td>By refusing to release his taxes, #Trump has v...</td>\n",
       "      <td>@realDonaldTrump has repeatedly refused to com...</td>\n",
       "      <td>...</td>\n",
       "      <td>Peaceful protestors are being murdered, arrest...</td>\n",
       "      <td>Sending @realDonaldTrump 73 “birthday” candles...</td>\n",
       "      <td>Sending @realDonaldTrump 73 “birthday” candles...</td>\n",
       "      <td>#Kellyanne Conway should absolutely be removed...</td>\n",
       "      <td>Miguel Angel lived to talk about the treatment...</td>\n",
       "      <td>Today, I addressed the issue of U.S. arms sale...</td>\n",
       "      <td>Today marks the third anniversary of the tragi...</td>\n",
       "      <td>By attempting to keep immigrants from accessin...</td>\n",
       "      <td>Where is the American outcry over the inhumane...</td>\n",
       "      <td>Immigrants have always contributed to our nati...</td>\n",
       "    </tr>\n",
       "    <tr>\n",
       "      <th>4</th>\n",
       "      <td>kyrstensinema</td>\n",
       "      <td>Democrat</td>\n",
       "      <td>Part 1 of my first-ever birthday swim complete...</td>\n",
       "      <td>Doing my best to take care of the men and wome...</td>\n",
       "      <td>In February, we passed protections to keep our...</td>\n",
       "      <td>\"On a typical day in Arizona this year, more t...</td>\n",
       "      <td>Education was my ticket to a better life. I'm ...</td>\n",
       "      <td>For too long, families on the Navajo Nation ha...</td>\n",
       "      <td>.@ASU psychology researchers use tech to heal ...</td>\n",
       "      <td>I come from a military family - so supporting ...</td>\n",
       "      <td>...</td>\n",
       "      <td>#OnThisDay in 1860, the first Pony Express rea...</td>\n",
       "      <td>Today in 1981, America's first space shuttle c...</td>\n",
       "      <td>Love @saguaronps? Check out an insiders' guide...</td>\n",
       "      <td>Bryan is only 12, but has been to *50* nationa...</td>\n",
       "      <td>Some days you wake up super early to run 20 mi...</td>\n",
       "      <td>\"With the help of two radio telescopes coordin...</td>\n",
       "      <td>#TBT to the days Sen Goldwater and  Sen McCain...</td>\n",
       "      <td>Happy #NationalPetDay from the pets of #TeamSi...</td>\n",
       "      <td>How many stops on this epic #AZ road trip have...</td>\n",
       "      <td>It's Financial Literacy Month - here are 30 ti...</td>\n",
       "    </tr>\n",
       "    <tr>\n",
       "      <th>5</th>\n",
       "      <td>RepBarragan</td>\n",
       "      <td>Democrat</td>\n",
       "      <td>It’s disturbing that DHS knew of sexual abuse ...</td>\n",
       "      <td>Going on @TheLastWord now. \\n\\nTUNE IN https:/...</td>\n",
       "      <td>Going on @MSNBC’s @TheLastWord with @Lawrence ...</td>\n",
       "      <td>Today, Democrats are standing up for the more ...</td>\n",
       "      <td>LIVE: House and Senate Democrats defend the Af...</td>\n",
       "      <td>Today is the last day to tell HUD @SecretaryCa...</td>\n",
       "      <td>Trump’s track record has been disastrous. He’s...</td>\n",
       "      <td>Congratulations @USWNT for becoming world cham...</td>\n",
       "      <td>...</td>\n",
       "      <td>Over 130 MILLION Americans with pre-existing c...</td>\n",
       "      <td>Today, the House passed two bipartisan bills t...</td>\n",
       "      <td>Asbestos isn’t just harming the health and saf...</td>\n",
       "      <td>Millions of Americans are at risk of being leg...</td>\n",
       "      <td>Here’s to all the inspirational men and women ...</td>\n",
       "      <td>Join us this Saturday, May 11 from 10–11:30AM ...</td>\n",
       "      <td>LIVE from the #FamilySeparation art installati...</td>\n",
       "      <td>Great to meet with @CDCHACoLA last week to dis...</td>\n",
       "      <td>Today marks the first day of #NationalNursesWe...</td>\n",
       "      <td>It’s #NationalSmallBusinessWeek and I’m celebr...</td>\n",
       "    </tr>\n",
       "    <tr>\n",
       "      <th>6</th>\n",
       "      <td>RepTomSuozzi</td>\n",
       "      <td>Democrat</td>\n",
       "      <td>After so many years, veterans and their famili...</td>\n",
       "      <td>Another victory for all the Vietnam-era \"Blue ...</td>\n",
       "      <td>Please see my statement below regarding today'...</td>\n",
       "      <td>The FAA needs to get this done, and done quick...</td>\n",
       "      <td>Make America Fair Again!\\nListen to my testimo...</td>\n",
       "      <td>I am incredibly concerned about the conditions...</td>\n",
       "      <td>Yesterday, the Ways and Means Committee met to...</td>\n",
       "      <td>I want to hear from you!\\n\\nI am going to be h...</td>\n",
       "      <td>...</td>\n",
       "      <td>Our thoughts and our prayers are with the enti...</td>\n",
       "      <td>80% of Americans say prescription drug prices ...</td>\n",
       "      <td>It was an honor to speak at yesterday’s JCRC C...</td>\n",
       "      <td>AIPAC is a not-for-profit that promotes US - I...</td>\n",
       "      <td>Rep. Omar’s tweet yesterday went too far. To s...</td>\n",
       "      <td>From MSNBC, more on our duty as members of the...</td>\n",
       "      <td>During yesterday's @WaysMeansCmte hearing rega...</td>\n",
       "      <td>Earlier today, I went on CNN to talk about gov...</td>\n",
       "      <td>Meeting today in DC with NYS Speaker @CarlEHea...</td>\n",
       "      <td>Today, I participated in a @WaysMeansCmte hear...</td>\n",
       "    </tr>\n",
       "    <tr>\n",
       "      <th>7</th>\n",
       "      <td>RepRoKhanna</td>\n",
       "      <td>Democrat</td>\n",
       "      <td>Thank you @SenSanders for leading this effort ...</td>\n",
       "      <td>Spreading the wealth of the digital revolution...</td>\n",
       "      <td>We’ve been fighting for two decades and spent ...</td>\n",
       "      <td>My #NDAA Amendment will end all US support for...</td>\n",
       "      <td>Change won’t happen unless we all take a stand...</td>\n",
       "      <td>When American democracy seems a little messy, ...</td>\n",
       "      <td>I'm a pro-growth progressive. I believe in pol...</td>\n",
       "      <td>Global warming is a national emergency, and it...</td>\n",
       "      <td>...</td>\n",
       "      <td>Grassroots mobilization yielded results. The b...</td>\n",
       "      <td>Happy #WorldEnvironmentDay! It remains incumbe...</td>\n",
       "      <td>From DC to Santa Clara, #TeamKhanna wore #RedF...</td>\n",
       "      <td>At the end of the day, serving in Congress is ...</td>\n",
       "      <td>The bottom line: Big Pharma's greed is activel...</td>\n",
       "      <td>2019: Enbrel is one year away from losing pate...</td>\n",
       "      <td>Enbrel is a case study in Big Pharma's greed:\\...</td>\n",
       "      <td>Big Pharma says outrageous prices are necessar...</td>\n",
       "      <td>Glad to see the @RulesDemocrats keep their pro...</td>\n",
       "      <td>We owe every Dreamer a right to the freedom an...</td>\n",
       "    </tr>\n",
       "    <tr>\n",
       "      <th>8</th>\n",
       "      <td>RepKihuen</td>\n",
       "      <td>Democrat</td>\n",
       "      <td>No better place in the world to bring in the n...</td>\n",
       "      <td>From my family to yours, Merry Christmas! ¡Fel...</td>\n",
       "      <td>Still here fighting for my constituents! #NoWa...</td>\n",
       "      <td>It has been the honor of my life to serve as a...</td>\n",
       "      <td>This is a step in the right direction and I ap...</td>\n",
       "      <td>Talking with @NoticiasYaNV regarding the recen...</td>\n",
       "      <td>It was an honor attending the @RebelVETS @UNLV...</td>\n",
       "      <td>Great to be at the annual Pro Bono Awards Lunc...</td>\n",
       "      <td>...</td>\n",
       "      <td>Honored to be at the Adult Residential Care Pr...</td>\n",
       "      <td>Listening to powerful “vivid visions”  @Hope4P...</td>\n",
       "      <td>Heads-up #LasVegas drivers!👇 https://t.co/itVL...</td>\n",
       "      <td>My thoughts and prayers are with Officer Kyle ...</td>\n",
       "      <td>#TeamKihuen was proud to join local veterans, ...</td>\n",
       "      <td>Discussed the importance of youth civic engage...</td>\n",
       "      <td>It’s always great having constituents stop by ...</td>\n",
       "      <td>Had a productive meeting with Tracy Larkin, De...</td>\n",
       "      <td>Feeling at home with #TeamKihuen at the Nevada...</td>\n",
       "      <td>It was a pleasure meeting with constituents af...</td>\n",
       "    </tr>\n",
       "    <tr>\n",
       "      <th>9</th>\n",
       "      <td>RepMcEachin</td>\n",
       "      <td>Democrat</td>\n",
       "      <td>Registration for the Congressional App Challen...</td>\n",
       "      <td>Today I proudly congratulate @VAHumanities for...</td>\n",
       "      <td>General Assembly members are elected to advoca...</td>\n",
       "      <td>If the GOP’s  #TexasvsUS lawsuit is successful...</td>\n",
       "      <td>I had a great time at the sciencemuseumofvirgi...</td>\n",
       "      <td>Immensely grateful for all the Virginians who ...</td>\n",
       "      <td>I want to reiterate this quote, an armed citiz...</td>\n",
       "      <td>Today I was in Chesapeake with my colleagues, ...</td>\n",
       "      <td>...</td>\n",
       "      <td>During the government shutdown, the Secretary ...</td>\n",
       "      <td>Today, @USInterior Secretary Bernhardt testifi...</td>\n",
       "      <td>Increased investment in U.S. infrastructure co...</td>\n",
       "      <td>It’s @InfraWeek’s #InfrastructureWeek. Let’s #...</td>\n",
       "      <td>I am fighting for #RuralBroadBand deployment a...</td>\n",
       "      <td>As we kick off #InfrastructureWeek, let’s not ...</td>\n",
       "      <td>I love Netflix, but I support ditching it from...</td>\n",
       "      <td>We should honor mothers not just on Mother's D...</td>\n",
       "      <td>I know how tough it is to lose your mom and #M...</td>\n",
       "      <td>Wishing a happy Mother's Day to all the moms a...</td>\n",
       "    </tr>\n",
       "  </tbody>\n",
       "</table>\n",
       "<p>10 rows × 202 columns</p>\n",
       "</div>"
      ],
      "text/plain": [
       "          Handle     Party                                          Tweet - 1  \\\n",
       "0  RepDarrenSoto  Democrat  Gov. @ricardorossello's comments degrading wom...   \n",
       "1  SenJackyRosen  Democrat  Officially unveiled my bipartisan #VeteransJob...   \n",
       "2  RepAlLawsonJr  Democrat  Our troops are the best America has to offer –...   \n",
       "3   RepEspaillat  Democrat  You cannot defend such evil and @SecretaryAcos...   \n",
       "4  kyrstensinema  Democrat  Part 1 of my first-ever birthday swim complete...   \n",
       "5    RepBarragan  Democrat  It’s disturbing that DHS knew of sexual abuse ...   \n",
       "6   RepTomSuozzi  Democrat  After so many years, veterans and their famili...   \n",
       "7    RepRoKhanna  Democrat  Thank you @SenSanders for leading this effort ...   \n",
       "8      RepKihuen  Democrat  No better place in the world to bring in the n...   \n",
       "9    RepMcEachin  Democrat  Registration for the Congressional App Challen...   \n",
       "\n",
       "                                           Tweet - 2  \\\n",
       "0  Looks like Trump will end his discriminatory c...   \n",
       "1  The @USWNT couldn’t have made our country prou...   \n",
       "2  More than 130 million Americans live with a pr...   \n",
       "3  We must investigate the toxic culture at the @...   \n",
       "4  Doing my best to take care of the men and wome...   \n",
       "5  Going on @TheLastWord now. \\n\\nTUNE IN https:/...   \n",
       "6  Another victory for all the Vietnam-era \"Blue ...   \n",
       "7  Spreading the wealth of the digital revolution...   \n",
       "8  From my family to yours, Merry Christmas! ¡Fel...   \n",
       "9  Today I proudly congratulate @VAHumanities for...   \n",
       "\n",
       "                                           Tweet - 3  \\\n",
       "0  For several years we sought to replace our sta...   \n",
       "1  My team was happy to attend the grand opening ...   \n",
       "2  This is the longest period of time in history ...   \n",
       "3  Congratulations US Women’s soccer team on thei...   \n",
       "4  In February, we passed protections to keep our...   \n",
       "5  Going on @MSNBC’s @TheLastWord with @Lawrence ...   \n",
       "6  Please see my statement below regarding today'...   \n",
       "7  We’ve been fighting for two decades and spent ...   \n",
       "8  Still here fighting for my constituents! #NoWa...   \n",
       "9  General Assembly members are elected to advoca...   \n",
       "\n",
       "                                           Tweet - 4  \\\n",
       "0  Proud to announce that @fema awarded @PolkCoun...   \n",
       "1  Excited to introduce the bipartisan Veterans J...   \n",
       "2  The annual Capitol Fourth celebrations are a m...   \n",
       "3  Thank you #NYPD Hate Crimes Task Force for eff...   \n",
       "4  \"On a typical day in Arizona this year, more t...   \n",
       "5  Today, Democrats are standing up for the more ...   \n",
       "6  The FAA needs to get this done, and done quick...   \n",
       "7  My #NDAA Amendment will end all US support for...   \n",
       "8  It has been the honor of my life to serve as a...   \n",
       "9  If the GOP’s  #TexasvsUS lawsuit is successful...   \n",
       "\n",
       "                                           Tweet - 5  \\\n",
       "0  STURDY Bill passed @EnergyCommerce Cmte today ...   \n",
       "1  We have work to do in Nevada to increase the n...   \n",
       "2  Today is a chance for our nation to come toget...   \n",
       "3  I’m down to go to the mat to get @asvpxrocky b...   \n",
       "4  Education was my ticket to a better life. I'm ...   \n",
       "5  LIVE: House and Senate Democrats defend the Af...   \n",
       "6  Make America Fair Again!\\nListen to my testimo...   \n",
       "7  Change won’t happen unless we all take a stand...   \n",
       "8  This is a step in the right direction and I ap...   \n",
       "9  I had a great time at the sciencemuseumofvirgi...   \n",
       "\n",
       "                                           Tweet - 6  \\\n",
       "0  Enough is enough! Billionaire super predator J...   \n",
       "1  I put my career on hold to take care of my agi...   \n",
       "2  Great morning speaking with the teens at Data ...   \n",
       "3  I commend @NYGovCuomo and the New York State L...   \n",
       "4  For too long, families on the Navajo Nation ha...   \n",
       "5  Today is the last day to tell HUD @SecretaryCa...   \n",
       "6  I am incredibly concerned about the conditions...   \n",
       "7  When American democracy seems a little messy, ...   \n",
       "8  Talking with @NoticiasYaNV regarding the recen...   \n",
       "9  Immensely grateful for all the Virginians who ...   \n",
       "\n",
       "                                           Tweet - 7  \\\n",
       "0  We continue our efforts to provide American Ci...   \n",
       "1  Representation matters, and I’m proud to have ...   \n",
       "2  The deaths at the border are a tragedy that we...   \n",
       "3  By refusing to release his taxes, #Trump has v...   \n",
       "4  .@ASU psychology researchers use tech to heal ...   \n",
       "5  Trump’s track record has been disastrous. He’s...   \n",
       "6  Yesterday, the Ways and Means Committee met to...   \n",
       "7  I'm a pro-growth progressive. I believe in pol...   \n",
       "8  It was an honor attending the @RebelVETS @UNLV...   \n",
       "9  I want to reiterate this quote, an armed citiz...   \n",
       "\n",
       "                                           Tweet - 8  ...  \\\n",
       "0  We're committed to defending quality &amp; aff...  ...   \n",
       "1  Productive discussion this morning with immigr...  ...   \n",
       "2  Veteran suicide is a sustained national crisis...  ...   \n",
       "3  @realDonaldTrump has repeatedly refused to com...  ...   \n",
       "4  I come from a military family - so supporting ...  ...   \n",
       "5  Congratulations @USWNT for becoming world cham...  ...   \n",
       "6  I want to hear from you!\\n\\nI am going to be h...  ...   \n",
       "7  Global warming is a national emergency, and it...  ...   \n",
       "8  Great to be at the annual Pro Bono Awards Lunc...  ...   \n",
       "9  Today I was in Chesapeake with my colleagues, ...  ...   \n",
       "\n",
       "                                         Tweet - 191  \\\n",
       "0  We've hosted several DREAMer interns in our of...   \n",
       "1  Thankful for organizations like @TahoeAgency, ...   \n",
       "2  Food stamps for 38 million low-income American...   \n",
       "3  Peaceful protestors are being murdered, arrest...   \n",
       "4  #OnThisDay in 1860, the first Pony Express rea...   \n",
       "5  Over 130 MILLION Americans with pre-existing c...   \n",
       "6  Our thoughts and our prayers are with the enti...   \n",
       "7  Grassroots mobilization yielded results. The b...   \n",
       "8  Honored to be at the Adult Residential Care Pr...   \n",
       "9  During the government shutdown, the Secretary ...   \n",
       "\n",
       "                                         Tweet - 192  \\\n",
       "0  As 2020 nears, Puerto Rico statehood looms lar...   \n",
       "1  Congratulations to @ClarkCountyNV for achievin...   \n",
       "2    The power of your vote! https://t.co/4ZFhSi4geT   \n",
       "3  Sending @realDonaldTrump 73 “birthday” candles...   \n",
       "4  Today in 1981, America's first space shuttle c...   \n",
       "5  Today, the House passed two bipartisan bills t...   \n",
       "6  80% of Americans say prescription drug prices ...   \n",
       "7  Happy #WorldEnvironmentDay! It remains incumbe...   \n",
       "8  Listening to powerful “vivid visions”  @Hope4P...   \n",
       "9  Today, @USInterior Secretary Bernhardt testifi...   \n",
       "\n",
       "                                         Tweet - 193  \\\n",
       "0  Honored to vote for Violence Against Women Act...   \n",
       "1  At this week’s @HSGAC hearing, I asked the nom...   \n",
       "2  Congrats to #FL05 #App Challenge winners #Tall...   \n",
       "3  Sending @realDonaldTrump 73 “birthday” candles...   \n",
       "4  Love @saguaronps? Check out an insiders' guide...   \n",
       "5  Asbestos isn’t just harming the health and saf...   \n",
       "6  It was an honor to speak at yesterday’s JCRC C...   \n",
       "7  From DC to Santa Clara, #TeamKhanna wore #RedF...   \n",
       "8  Heads-up #LasVegas drivers!👇 https://t.co/itVL...   \n",
       "9  Increased investment in U.S. infrastructure co...   \n",
       "\n",
       "                                         Tweet - 194  \\\n",
       "0  Having knocked on thousands of doors in the di...   \n",
       "1  In 2018, wildfires scorched over 230,000 acres...   \n",
       "2  New office for the #116thCongress. Swing by 14...   \n",
       "3  #Kellyanne Conway should absolutely be removed...   \n",
       "4  Bryan is only 12, but has been to *50* nationa...   \n",
       "5  Millions of Americans are at risk of being leg...   \n",
       "6  AIPAC is a not-for-profit that promotes US - I...   \n",
       "7  At the end of the day, serving in Congress is ...   \n",
       "8  My thoughts and prayers are with Officer Kyle ...   \n",
       "9  It’s @InfraWeek’s #InfrastructureWeek. Let’s #...   \n",
       "\n",
       "                                         Tweet - 195  \\\n",
       "0  We are committed to giving all our kids a #Hea...   \n",
       "1  7 years ago today we made a promise to protect...   \n",
       "2  There is no one more deserving to be Speaker o...   \n",
       "3  Miguel Angel lived to talk about the treatment...   \n",
       "4  Some days you wake up super early to run 20 mi...   \n",
       "5  Here’s to all the inspirational men and women ...   \n",
       "6  Rep. Omar’s tweet yesterday went too far. To s...   \n",
       "7  The bottom line: Big Pharma's greed is activel...   \n",
       "8  #TeamKihuen was proud to join local veterans, ...   \n",
       "9  I am fighting for #RuralBroadBand deployment a...   \n",
       "\n",
       "                                         Tweet - 196  \\\n",
       "0  Today in @EnergyCommerce we began taking actio...   \n",
       "1  I’m grateful for organizations such as these t...   \n",
       "2  Join me this morning for the ceremonial sweari...   \n",
       "3  Today, I addressed the issue of U.S. arms sale...   \n",
       "4  \"With the help of two radio telescopes coordin...   \n",
       "5  Join us this Saturday, May 11 from 10–11:30AM ...   \n",
       "6  From MSNBC, more on our duty as members of the...   \n",
       "7  2019: Enbrel is one year away from losing pate...   \n",
       "8  Discussed the importance of youth civic engage...   \n",
       "9  As we kick off #InfrastructureWeek, let’s not ...   \n",
       "\n",
       "                                         Tweet - 197  \\\n",
       "0  Proud to work to protect the #Everglades for a...   \n",
       "1  Honored to take part in today’s @DreamBigNV ri...   \n",
       "2  Wishing you a very Merry Christmas! https://t....   \n",
       "3  Today marks the third anniversary of the tragi...   \n",
       "4  #TBT to the days Sen Goldwater and  Sen McCain...   \n",
       "5  LIVE from the #FamilySeparation art installati...   \n",
       "6  During yesterday's @WaysMeansCmte hearing rega...   \n",
       "7  Enbrel is a case study in Big Pharma's greed:\\...   \n",
       "8  It’s always great having constituents stop by ...   \n",
       "9  I love Netflix, but I support ditching it from...   \n",
       "\n",
       "                                         Tweet - 198  \\\n",
       "0  In @EnergyCommerce today voting on ambitious @...   \n",
       "1  #ClimateChange is real and we need #BoldClimat...   \n",
       "2  The resolution is not the end of this critical...   \n",
       "3  By attempting to keep immigrants from accessin...   \n",
       "4  Happy #NationalPetDay from the pets of #TeamSi...   \n",
       "5  Great to meet with @CDCHACoLA last week to dis...   \n",
       "6  Earlier today, I went on CNN to talk about gov...   \n",
       "7  Big Pharma says outrageous prices are necessar...   \n",
       "8  Had a productive meeting with Tracy Larkin, De...   \n",
       "9  We should honor mothers not just on Mother's D...   \n",
       "\n",
       "                                         Tweet - 199  \\\n",
       "0  My honor and you can count on our support! htt...   \n",
       "1  I’m co-sponsoring the International Climate Ac...   \n",
       "2  It's unfortunate my Republican colleagues play...   \n",
       "3  Where is the American outcry over the inhumane...   \n",
       "4  How many stops on this epic #AZ road trip have...   \n",
       "5  Today marks the first day of #NationalNursesWe...   \n",
       "6  Meeting today in DC with NYS Speaker @CarlEHea...   \n",
       "7  Glad to see the @RulesDemocrats keep their pro...   \n",
       "8  Feeling at home with #TeamKihuen at the Nevada...   \n",
       "9  I know how tough it is to lose your mom and #M...   \n",
       "\n",
       "                                         Tweet - 200  \n",
       "0  It is 2019 and women are still paid 80 cents f...  \n",
       "1  Honored to meet Nevada’s freshman class of cad...  \n",
       "2  I’m pleased that the House has worked to provi...  \n",
       "3  Immigrants have always contributed to our nati...  \n",
       "4  It's Financial Literacy Month - here are 30 ti...  \n",
       "5  It’s #NationalSmallBusinessWeek and I’m celebr...  \n",
       "6  Today, I participated in a @WaysMeansCmte hear...  \n",
       "7  We owe every Dreamer a right to the freedom an...  \n",
       "8  It was a pleasure meeting with constituents af...  \n",
       "9  Wishing a happy Mother's Day to all the moms a...  \n",
       "\n",
       "[10 rows x 202 columns]"
      ]
     },
     "execution_count": 2,
     "metadata": {},
     "output_type": "execute_result"
    }
   ],
   "source": [
    "df = pd.read_csv('data/dataset.csv')\n",
    "df.drop('Unnamed: 0', axis=1, inplace=True)\n",
    "df.head(10)\n"
   ]
  },
  {
   "cell_type": "markdown",
   "metadata": {},
   "source": [
    "# Pre-processing"
   ]
  },
  {
   "cell_type": "code",
   "execution_count": 8,
   "metadata": {
    "scrolled": true
   },
   "outputs": [],
   "source": [
    "df['Party'] = pd.Categorical(df.Party)\n",
    "df['Party'] = pd.get_dummies(df['Party'], drop_first=True)\n",
    "# df[df['Party'] == 0]\n",
    "# df.head()\n"
   ]
  },
  {
   "cell_type": "markdown",
   "metadata": {},
   "source": [
    "<b>0</b> - Democrat <br>\n",
    "<b>1</b> - Republican"
   ]
  },
  {
   "cell_type": "code",
   "execution_count": 9,
   "metadata": {
    "scrolled": true
   },
   "outputs": [
    {
     "name": "stdout",
     "output_type": "stream",
     "text": [
      "(451, 200)\n",
      "(451,)\n"
     ]
    }
   ],
   "source": [
    "X = df[df.columns[2:]]\n",
    "Y = df['Party']\n",
    "print(X.shape)\n",
    "print(Y.shape)"
   ]
  },
  {
   "cell_type": "code",
   "execution_count": 10,
   "metadata": {
    "scrolled": false
   },
   "outputs": [
    {
     "name": "stdout",
     "output_type": "stream",
     "text": [
      "Tweet - 1     Gov. @ricardorossello's comments degrading wom...\n",
      "Tweet - 2     Looks like Trump will end his discriminatory c...\n",
      "Tweet - 3     For several years we sought to replace our sta...\n",
      "Tweet - 4     Proud to announce that @fema awarded @PolkCoun...\n",
      "Tweet - 5     STURDY Bill passed @EnergyCommerce Cmte today ...\n",
      "Tweet - 6     Enough is enough! Billionaire super predator J...\n",
      "Tweet - 7     We continue our efforts to provide American Ci...\n",
      "Tweet - 8     We're committed to defending quality &amp; aff...\n",
      "Tweet - 9     Robocalls aren’t just annoying. Many are outri...\n",
      "Tweet - 10    This is why we continue to fight @jediabetical...\n",
      "Name: 0, dtype: object\n"
     ]
    }
   ],
   "source": [
    "print(X.iloc[0,:10])"
   ]
  },
  {
   "cell_type": "markdown",
   "metadata": {},
   "source": [
    "### Removing special characters"
   ]
  },
  {
   "cell_type": "code",
   "execution_count": 11,
   "metadata": {},
   "outputs": [
    {
     "name": "stderr",
     "output_type": "stream",
     "text": [
      "C:\\Users\\tshan\\Anaconda3\\envs\\nlp\\lib\\site-packages\\ipykernel_launcher.py:2: SettingWithCopyWarning: \n",
      "A value is trying to be set on a copy of a slice from a DataFrame.\n",
      "Try using .loc[row_indexer,col_indexer] = value instead\n",
      "\n",
      "See the caveats in the documentation: http://pandas.pydata.org/pandas-docs/stable/indexing.html#indexing-view-versus-copy\n",
      "  \n",
      "C:\\Users\\tshan\\Anaconda3\\envs\\nlp\\lib\\site-packages\\ipykernel_launcher.py:3: SettingWithCopyWarning: \n",
      "A value is trying to be set on a copy of a slice from a DataFrame.\n",
      "Try using .loc[row_indexer,col_indexer] = value instead\n",
      "\n",
      "See the caveats in the documentation: http://pandas.pydata.org/pandas-docs/stable/indexing.html#indexing-view-versus-copy\n",
      "  This is separate from the ipykernel package so we can avoid doing imports until\n",
      "C:\\Users\\tshan\\Anaconda3\\envs\\nlp\\lib\\site-packages\\ipykernel_launcher.py:4: SettingWithCopyWarning: \n",
      "A value is trying to be set on a copy of a slice from a DataFrame.\n",
      "Try using .loc[row_indexer,col_indexer] = value instead\n",
      "\n",
      "See the caveats in the documentation: http://pandas.pydata.org/pandas-docs/stable/indexing.html#indexing-view-versus-copy\n",
      "  after removing the cwd from sys.path.\n"
     ]
    }
   ],
   "source": [
    "for col in X.columns:\n",
    "    X[col] = X[col].str.replace('&amp;', \"and\")\n",
    "    X[col] = X[col].str.replace('\\xa0', \" \")\n",
    "    X[col] = X[col].str.replace('\\u2003', \" \")\n"
   ]
  },
  {
   "cell_type": "code",
   "execution_count": 12,
   "metadata": {
    "scrolled": true
   },
   "outputs": [
    {
     "name": "stdout",
     "output_type": "stream",
     "text": [
      "We’re indeed in a constitutional crisis and must defend our democracy! AG Barr should be held in contempt for refusal to testify and submit docs. As co-equal branch, Congress has a constitutional obligation to oversight, combat corruption and get to the truth!\n",
      "https://t.co/vjZ2P7PSWl\n"
     ]
    }
   ],
   "source": [
    "print(X.iloc[0,122])"
   ]
  },
  {
   "cell_type": "markdown",
   "metadata": {},
   "source": [
    "### Removing links"
   ]
  },
  {
   "cell_type": "code",
   "execution_count": 13,
   "metadata": {},
   "outputs": [],
   "source": [
    "def remove_link(sent):\n",
    "    sent = str(sent)\n",
    "    return sent[:sent.find(\"https://\")]"
   ]
  },
  {
   "cell_type": "code",
   "execution_count": 14,
   "metadata": {},
   "outputs": [],
   "source": [
    "X = X.apply(np.vectorize(remove_link))"
   ]
  },
  {
   "cell_type": "code",
   "execution_count": 15,
   "metadata": {
    "scrolled": true
   },
   "outputs": [
    {
     "name": "stdout",
     "output_type": "stream",
     "text": [
      "We’re indeed in a constitutional crisis and must defend our democracy! AG Barr should be held in contempt for refusal to testify and submit docs. As co-equal branch, Congress has a constitutional obligation to oversight, combat corruption and get to the truth!\n",
      "\n"
     ]
    }
   ],
   "source": [
    "print(X.iloc[0,122])"
   ]
  },
  {
   "cell_type": "markdown",
   "metadata": {},
   "source": [
    "### Removing punctuations and converting sentences into lowercase"
   ]
  },
  {
   "cell_type": "code",
   "execution_count": 16,
   "metadata": {},
   "outputs": [],
   "source": [
    "import re\n",
    "from string import punctuation\n",
    "punctuation = punctuation + \"—\"\n",
    "regex = re.compile('[%s]' % re.escape(punctuation))\n",
    "\n",
    "def remove_punctuations(sentence):\n",
    "    return regex.sub('', sentence)\n",
    "    "
   ]
  },
  {
   "cell_type": "code",
   "execution_count": 17,
   "metadata": {},
   "outputs": [],
   "source": [
    "X = X.apply(np.vectorize(remove_punctuations))\n",
    "X = X.apply(np.vectorize(str.lower))"
   ]
  },
  {
   "cell_type": "code",
   "execution_count": 18,
   "metadata": {},
   "outputs": [
    {
     "name": "stdout",
     "output_type": "stream",
     "text": [
      "we’re indeed in a constitutional crisis and must defend our democracy ag barr should be held in contempt for refusal to testify and submit docs as coequal branch congress has a constitutional obligation to oversight combat corruption and get to the truth\n",
      "\n"
     ]
    }
   ],
   "source": [
    "print(X.iloc[0,122])"
   ]
  },
  {
   "cell_type": "code",
   "execution_count": 19,
   "metadata": {
    "scrolled": false
   },
   "outputs": [
    {
     "data": {
      "text/plain": [
       "'the 3rd of july means one thing  thunder on the canal at alderbrook i was a guest timer for the oyster eating contest the rapid consumption of mass quantities of shellfish was in a word disgusting  somehow i’m not sure this is what our founding fathers envisioned 😉 '"
      ]
     },
     "execution_count": 19,
     "metadata": {},
     "output_type": "execute_result"
    }
   ],
   "source": [
    "X.loc[63, 'Tweet - 16']"
   ]
  },
  {
   "cell_type": "markdown",
   "metadata": {},
   "source": [
    "# Modelling\n",
    "<b><hr>"
   ]
  },
  {
   "cell_type": "markdown",
   "metadata": {},
   "source": [
    "## Splitting into training and testing sets\n"
   ]
  },
  {
   "cell_type": "code",
   "execution_count": 20,
   "metadata": {},
   "outputs": [],
   "source": [
    "from sklearn.model_selection import train_test_split\n",
    "\n",
    "X_train, X_test, y_train, y_test = train_test_split(X, Y, test_size=0.2, random_state=420)"
   ]
  },
  {
   "cell_type": "markdown",
   "metadata": {},
   "source": [
    "## Using Tokenizer and creating a vocabulary"
   ]
  },
  {
   "cell_type": "code",
   "execution_count": 21,
   "metadata": {},
   "outputs": [],
   "source": [
    "t = Tokenizer(oov_token=\"UNK\")\n",
    "a = []"
   ]
  },
  {
   "cell_type": "code",
   "execution_count": 22,
   "metadata": {},
   "outputs": [],
   "source": [
    "for i in X_train.index:\n",
    "    a.append(X_train.loc[i].tolist())\n",
    "    \n",
    "final_docs = [j for i in a for j in i]"
   ]
  },
  {
   "cell_type": "code",
   "execution_count": 23,
   "metadata": {
    "scrolled": true
   },
   "outputs": [
    {
     "name": "stdout",
     "output_type": "stream",
     "text": [
      "Len of a: 360\n",
      "Len of a: 72000\n"
     ]
    }
   ],
   "source": [
    "print(\"Len of a: {}\".format(len(a)))\n",
    "print(\"Len of a: {}\".format(len(final_docs)))"
   ]
  },
  {
   "cell_type": "markdown",
   "metadata": {},
   "source": [
    "### Creating a vocabulary"
   ]
  },
  {
   "cell_type": "code",
   "execution_count": 24,
   "metadata": {},
   "outputs": [],
   "source": [
    "t.fit_on_texts(final_docs)"
   ]
  },
  {
   "cell_type": "code",
   "execution_count": 25,
   "metadata": {},
   "outputs": [
    {
     "name": "stdout",
     "output_type": "stream",
     "text": [
      "Vocabulary size: 71746\n"
     ]
    }
   ],
   "source": [
    "vocab_size = len(t.word_index) + 1\n",
    "print(\"Vocabulary size: {}\".format(vocab_size))"
   ]
  },
  {
   "cell_type": "code",
   "execution_count": 26,
   "metadata": {},
   "outputs": [],
   "source": [
    "def get_max_length(X_train):\n",
    "    max_len = 0\n",
    "    for col in X_train.columns:\n",
    "        temp = len(max(X_train[col], key=len).split())\n",
    "\n",
    "        if temp > max_len:\n",
    "            max_len = temp\n",
    "            tweet = max(X_train[col], key=len)\n",
    "            column = col\n",
    "\n",
    "    return max_len"
   ]
  },
  {
   "cell_type": "code",
   "execution_count": 27,
   "metadata": {
    "scrolled": true
   },
   "outputs": [
    {
     "name": "stdout",
     "output_type": "stream",
     "text": [
      "Maximum sentence length: 74\n"
     ]
    }
   ],
   "source": [
    "max_sent_len = get_max_length(X_train) + 1\n",
    "print(\"Maximum sentence length: {}\".format(max_sent_len))"
   ]
  },
  {
   "cell_type": "markdown",
   "metadata": {},
   "source": [
    "### Encoding the sentences"
   ]
  },
  {
   "cell_type": "code",
   "execution_count": 28,
   "metadata": {},
   "outputs": [],
   "source": [
    "def convert_sentences(sentence, word_to_index):\n",
    "    encoded = np.zeros((1, max_sent_len))\n",
    "    sentence_words = sentence.lower().split()\n",
    "    j = 0\n",
    "    for w in sentence_words:\n",
    "        encoded[0, j] = word_to_index[w]\n",
    "        j += 1\n",
    "    \n",
    "    return encoded"
   ]
  },
  {
   "cell_type": "code",
   "execution_count": 29,
   "metadata": {},
   "outputs": [],
   "source": [
    "encoded_X_train = X_train.copy()"
   ]
  },
  {
   "cell_type": "code",
   "execution_count": 30,
   "metadata": {
    "scrolled": true
   },
   "outputs": [],
   "source": [
    "for col in encoded_X_train.columns:\n",
    "    encoded_X_train[col] = X_train[col].apply(convert_sentences, args=(t.word_index,))"
   ]
  },
  {
   "cell_type": "code",
   "execution_count": 31,
   "metadata": {},
   "outputs": [
    {
     "data": {
      "text/plain": [
       "array([[1.4701e+04, 1.1358e+04, 2.7000e+02, 3.5300e+03, 1.5500e+02,\n",
       "        6.8380e+03, 7.4000e+01, 1.4700e+02, 2.1200e+02, 5.1600e+02,\n",
       "        3.1500e+02, 5.8100e+02, 6.0660e+03, 4.0270e+03, 4.0000e+00,\n",
       "        1.6300e+02, 4.7490e+03, 1.9100e+02, 6.8390e+03, 3.9050e+03,\n",
       "        1.1980e+03, 5.0000e+00, 5.1700e+02, 5.0000e+00, 8.1100e+02,\n",
       "        8.6600e+02, 3.3219e+04, 3.0080e+03, 4.0000e+01, 3.3900e+02,\n",
       "        2.8200e+02, 2.1600e+02, 2.0000e+00, 6.7700e+02, 5.7000e+01,\n",
       "        9.8500e+02, 0.0000e+00, 0.0000e+00, 0.0000e+00, 0.0000e+00,\n",
       "        0.0000e+00, 0.0000e+00, 0.0000e+00, 0.0000e+00, 0.0000e+00,\n",
       "        0.0000e+00, 0.0000e+00, 0.0000e+00, 0.0000e+00, 0.0000e+00,\n",
       "        0.0000e+00, 0.0000e+00, 0.0000e+00, 0.0000e+00, 0.0000e+00,\n",
       "        0.0000e+00, 0.0000e+00, 0.0000e+00, 0.0000e+00, 0.0000e+00,\n",
       "        0.0000e+00, 0.0000e+00, 0.0000e+00, 0.0000e+00, 0.0000e+00,\n",
       "        0.0000e+00, 0.0000e+00, 0.0000e+00, 0.0000e+00, 0.0000e+00,\n",
       "        0.0000e+00, 0.0000e+00, 0.0000e+00, 0.0000e+00]])"
      ]
     },
     "execution_count": 31,
     "metadata": {},
     "output_type": "execute_result"
    }
   ],
   "source": [
    "encoded_X_train.iloc[0,0]"
   ]
  },
  {
   "cell_type": "markdown",
   "metadata": {},
   "source": [
    "## Embedding Layer"
   ]
  },
  {
   "cell_type": "code",
   "execution_count": 32,
   "metadata": {},
   "outputs": [],
   "source": [
    "emb_dim = 50"
   ]
  },
  {
   "cell_type": "code",
   "execution_count": 34,
   "metadata": {},
   "outputs": [],
   "source": [
    "embedding_layer = Embedding(input_dim=vocab_size, output_dim=emb_dim, input_length=max_sent_len, trainable=False)\n",
    "trained_embedding_layer = Embedding(input_dim=vocab_size, output_dim=emb_dim, input_length=max_sent_len, trainable=True)"
   ]
  },
  {
   "cell_type": "code",
   "execution_count": 37,
   "metadata": {},
   "outputs": [],
   "source": [
    "from tensorflow.keras.layers import Reshape"
   ]
  },
  {
   "cell_type": "code",
   "execution_count": 40,
   "metadata": {},
   "outputs": [
    {
     "ename": "ValueError",
     "evalue": "Cannot reshape a tensor with 90200 elements to shape [451,90200,1] (40680200 elements) for 'reshape_2/Reshape' (op: 'Reshape') with input shapes: [451,200], [3] and with input tensors computed as partial shapes: input[1] = [451,90200,1].",
     "output_type": "error",
     "traceback": [
      "\u001b[1;31m---------------------------------------------------------------------------\u001b[0m",
      "\u001b[1;31mInvalidArgumentError\u001b[0m                      Traceback (most recent call last)",
      "\u001b[1;32m~\\Anaconda3\\envs\\nlp\\lib\\site-packages\\tensorflow\\python\\framework\\ops.py\u001b[0m in \u001b[0;36m_create_c_op\u001b[1;34m(graph, node_def, inputs, control_inputs)\u001b[0m\n\u001b[0;32m   1863\u001b[0m   \u001b[1;32mtry\u001b[0m\u001b[1;33m:\u001b[0m\u001b[1;33m\u001b[0m\u001b[1;33m\u001b[0m\u001b[0m\n\u001b[1;32m-> 1864\u001b[1;33m     \u001b[0mc_op\u001b[0m \u001b[1;33m=\u001b[0m \u001b[0mc_api\u001b[0m\u001b[1;33m.\u001b[0m\u001b[0mTF_FinishOperation\u001b[0m\u001b[1;33m(\u001b[0m\u001b[0mop_desc\u001b[0m\u001b[1;33m)\u001b[0m\u001b[1;33m\u001b[0m\u001b[1;33m\u001b[0m\u001b[0m\n\u001b[0m\u001b[0;32m   1865\u001b[0m   \u001b[1;32mexcept\u001b[0m \u001b[0merrors\u001b[0m\u001b[1;33m.\u001b[0m\u001b[0mInvalidArgumentError\u001b[0m \u001b[1;32mas\u001b[0m \u001b[0me\u001b[0m\u001b[1;33m:\u001b[0m\u001b[1;33m\u001b[0m\u001b[1;33m\u001b[0m\u001b[0m\n",
      "\u001b[1;31mInvalidArgumentError\u001b[0m: Cannot reshape a tensor with 90200 elements to shape [451,90200,1] (40680200 elements) for 'reshape_2/Reshape' (op: 'Reshape') with input shapes: [451,200], [3] and with input tensors computed as partial shapes: input[1] = [451,90200,1].",
      "\nDuring handling of the above exception, another exception occurred:\n",
      "\u001b[1;31mValueError\u001b[0m                                Traceback (most recent call last)",
      "\u001b[1;32m<ipython-input-40-274e1369d6ad>\u001b[0m in \u001b[0;36m<module>\u001b[1;34m\u001b[0m\n\u001b[1;32m----> 1\u001b[1;33m \u001b[0mm\u001b[0m \u001b[1;33m=\u001b[0m \u001b[0mReshape\u001b[0m\u001b[1;33m(\u001b[0m\u001b[0mtarget_shape\u001b[0m\u001b[1;33m=\u001b[0m\u001b[1;33m(\u001b[0m\u001b[1;36m90200\u001b[0m\u001b[1;33m,\u001b[0m \u001b[1;36m1\u001b[0m\u001b[1;33m)\u001b[0m\u001b[1;33m)\u001b[0m\u001b[1;33m(\u001b[0m\u001b[0mX\u001b[0m\u001b[1;33m)\u001b[0m\u001b[1;33m\u001b[0m\u001b[1;33m\u001b[0m\u001b[0m\n\u001b[0m",
      "\u001b[1;32m~\\Anaconda3\\envs\\nlp\\lib\\site-packages\\tensorflow\\python\\keras\\engine\\base_layer.py\u001b[0m in \u001b[0;36m__call__\u001b[1;34m(self, inputs, *args, **kwargs)\u001b[0m\n\u001b[0;32m    677\u001b[0m           with base_layer_utils.autocast_context_manager(\n\u001b[0;32m    678\u001b[0m               input_list, self._mixed_precision_policy.should_cast_variables):\n\u001b[1;32m--> 679\u001b[1;33m             \u001b[0moutputs\u001b[0m \u001b[1;33m=\u001b[0m \u001b[0mself\u001b[0m\u001b[1;33m.\u001b[0m\u001b[0mcall\u001b[0m\u001b[1;33m(\u001b[0m\u001b[0minputs\u001b[0m\u001b[1;33m,\u001b[0m \u001b[1;33m*\u001b[0m\u001b[0margs\u001b[0m\u001b[1;33m,\u001b[0m \u001b[1;33m**\u001b[0m\u001b[0mkwargs\u001b[0m\u001b[1;33m)\u001b[0m\u001b[1;33m\u001b[0m\u001b[1;33m\u001b[0m\u001b[0m\n\u001b[0m\u001b[0;32m    680\u001b[0m           \u001b[0mself\u001b[0m\u001b[1;33m.\u001b[0m\u001b[0m_handle_activity_regularization\u001b[0m\u001b[1;33m(\u001b[0m\u001b[0minputs\u001b[0m\u001b[1;33m,\u001b[0m \u001b[0moutputs\u001b[0m\u001b[1;33m)\u001b[0m\u001b[1;33m\u001b[0m\u001b[1;33m\u001b[0m\u001b[0m\n\u001b[0;32m    681\u001b[0m           \u001b[0mself\u001b[0m\u001b[1;33m.\u001b[0m\u001b[0m_set_mask_metadata\u001b[0m\u001b[1;33m(\u001b[0m\u001b[0minputs\u001b[0m\u001b[1;33m,\u001b[0m \u001b[0moutputs\u001b[0m\u001b[1;33m,\u001b[0m \u001b[0mprevious_mask\u001b[0m\u001b[1;33m)\u001b[0m\u001b[1;33m\u001b[0m\u001b[1;33m\u001b[0m\u001b[0m\n",
      "\u001b[1;32m~\\Anaconda3\\envs\\nlp\\lib\\site-packages\\tensorflow\\python\\keras\\layers\\core.py\u001b[0m in \u001b[0;36mcall\u001b[1;34m(self, inputs)\u001b[0m\n\u001b[0;32m    465\u001b[0m   \u001b[1;32mdef\u001b[0m \u001b[0mcall\u001b[0m\u001b[1;33m(\u001b[0m\u001b[0mself\u001b[0m\u001b[1;33m,\u001b[0m \u001b[0minputs\u001b[0m\u001b[1;33m)\u001b[0m\u001b[1;33m:\u001b[0m\u001b[1;33m\u001b[0m\u001b[1;33m\u001b[0m\u001b[0m\n\u001b[0;32m    466\u001b[0m     return array_ops.reshape(inputs,\n\u001b[1;32m--> 467\u001b[1;33m                              (array_ops.shape(inputs)[0],) + self.target_shape)\n\u001b[0m\u001b[0;32m    468\u001b[0m \u001b[1;33m\u001b[0m\u001b[0m\n\u001b[0;32m    469\u001b[0m   \u001b[1;32mdef\u001b[0m \u001b[0mget_config\u001b[0m\u001b[1;33m(\u001b[0m\u001b[0mself\u001b[0m\u001b[1;33m)\u001b[0m\u001b[1;33m:\u001b[0m\u001b[1;33m\u001b[0m\u001b[1;33m\u001b[0m\u001b[0m\n",
      "\u001b[1;32m~\\Anaconda3\\envs\\nlp\\lib\\site-packages\\tensorflow\\python\\ops\\gen_array_ops.py\u001b[0m in \u001b[0;36mreshape\u001b[1;34m(tensor, shape, name)\u001b[0m\n\u001b[0;32m   9092\u001b[0m   \u001b[1;32mtry\u001b[0m\u001b[1;33m:\u001b[0m\u001b[1;33m\u001b[0m\u001b[1;33m\u001b[0m\u001b[0m\n\u001b[0;32m   9093\u001b[0m     _, _, _op = _op_def_lib._apply_op_helper(\n\u001b[1;32m-> 9094\u001b[1;33m         \"Reshape\", tensor=tensor, shape=shape, name=name)\n\u001b[0m\u001b[0;32m   9095\u001b[0m   \u001b[1;32mexcept\u001b[0m \u001b[1;33m(\u001b[0m\u001b[0mTypeError\u001b[0m\u001b[1;33m,\u001b[0m \u001b[0mValueError\u001b[0m\u001b[1;33m)\u001b[0m\u001b[1;33m:\u001b[0m\u001b[1;33m\u001b[0m\u001b[1;33m\u001b[0m\u001b[0m\n\u001b[0;32m   9096\u001b[0m     result = _dispatch.dispatch(\n",
      "\u001b[1;32m~\\Anaconda3\\envs\\nlp\\lib\\site-packages\\tensorflow\\python\\framework\\op_def_library.py\u001b[0m in \u001b[0;36m_apply_op_helper\u001b[1;34m(self, op_type_name, name, **keywords)\u001b[0m\n\u001b[0;32m    786\u001b[0m         op = g.create_op(op_type_name, inputs, dtypes=None, name=scope,\n\u001b[0;32m    787\u001b[0m                          \u001b[0minput_types\u001b[0m\u001b[1;33m=\u001b[0m\u001b[0minput_types\u001b[0m\u001b[1;33m,\u001b[0m \u001b[0mattrs\u001b[0m\u001b[1;33m=\u001b[0m\u001b[0mattr_protos\u001b[0m\u001b[1;33m,\u001b[0m\u001b[1;33m\u001b[0m\u001b[1;33m\u001b[0m\u001b[0m\n\u001b[1;32m--> 788\u001b[1;33m                          op_def=op_def)\n\u001b[0m\u001b[0;32m    789\u001b[0m       \u001b[1;32mreturn\u001b[0m \u001b[0moutput_structure\u001b[0m\u001b[1;33m,\u001b[0m \u001b[0mop_def\u001b[0m\u001b[1;33m.\u001b[0m\u001b[0mis_stateful\u001b[0m\u001b[1;33m,\u001b[0m \u001b[0mop\u001b[0m\u001b[1;33m\u001b[0m\u001b[1;33m\u001b[0m\u001b[0m\n\u001b[0;32m    790\u001b[0m \u001b[1;33m\u001b[0m\u001b[0m\n",
      "\u001b[1;32m~\\Anaconda3\\envs\\nlp\\lib\\site-packages\\tensorflow\\python\\util\\deprecation.py\u001b[0m in \u001b[0;36mnew_func\u001b[1;34m(*args, **kwargs)\u001b[0m\n\u001b[0;32m    505\u001b[0m                 \u001b[1;34m'in a future version'\u001b[0m \u001b[1;32mif\u001b[0m \u001b[0mdate\u001b[0m \u001b[1;32mis\u001b[0m \u001b[1;32mNone\u001b[0m \u001b[1;32melse\u001b[0m \u001b[1;33m(\u001b[0m\u001b[1;34m'after %s'\u001b[0m \u001b[1;33m%\u001b[0m \u001b[0mdate\u001b[0m\u001b[1;33m)\u001b[0m\u001b[1;33m,\u001b[0m\u001b[1;33m\u001b[0m\u001b[1;33m\u001b[0m\u001b[0m\n\u001b[0;32m    506\u001b[0m                 instructions)\n\u001b[1;32m--> 507\u001b[1;33m       \u001b[1;32mreturn\u001b[0m \u001b[0mfunc\u001b[0m\u001b[1;33m(\u001b[0m\u001b[1;33m*\u001b[0m\u001b[0margs\u001b[0m\u001b[1;33m,\u001b[0m \u001b[1;33m**\u001b[0m\u001b[0mkwargs\u001b[0m\u001b[1;33m)\u001b[0m\u001b[1;33m\u001b[0m\u001b[1;33m\u001b[0m\u001b[0m\n\u001b[0m\u001b[0;32m    508\u001b[0m \u001b[1;33m\u001b[0m\u001b[0m\n\u001b[0;32m    509\u001b[0m     doc = _add_deprecated_arg_notice_to_docstring(\n",
      "\u001b[1;32m~\\Anaconda3\\envs\\nlp\\lib\\site-packages\\tensorflow\\python\\framework\\ops.py\u001b[0m in \u001b[0;36mcreate_op\u001b[1;34m(***failed resolving arguments***)\u001b[0m\n\u001b[0;32m   3614\u001b[0m           \u001b[0minput_types\u001b[0m\u001b[1;33m=\u001b[0m\u001b[0minput_types\u001b[0m\u001b[1;33m,\u001b[0m\u001b[1;33m\u001b[0m\u001b[1;33m\u001b[0m\u001b[0m\n\u001b[0;32m   3615\u001b[0m           \u001b[0moriginal_op\u001b[0m\u001b[1;33m=\u001b[0m\u001b[0mself\u001b[0m\u001b[1;33m.\u001b[0m\u001b[0m_default_original_op\u001b[0m\u001b[1;33m,\u001b[0m\u001b[1;33m\u001b[0m\u001b[1;33m\u001b[0m\u001b[0m\n\u001b[1;32m-> 3616\u001b[1;33m           op_def=op_def)\n\u001b[0m\u001b[0;32m   3617\u001b[0m       \u001b[0mself\u001b[0m\u001b[1;33m.\u001b[0m\u001b[0m_create_op_helper\u001b[0m\u001b[1;33m(\u001b[0m\u001b[0mret\u001b[0m\u001b[1;33m,\u001b[0m \u001b[0mcompute_device\u001b[0m\u001b[1;33m=\u001b[0m\u001b[0mcompute_device\u001b[0m\u001b[1;33m)\u001b[0m\u001b[1;33m\u001b[0m\u001b[1;33m\u001b[0m\u001b[0m\n\u001b[0;32m   3618\u001b[0m     \u001b[1;32mreturn\u001b[0m \u001b[0mret\u001b[0m\u001b[1;33m\u001b[0m\u001b[1;33m\u001b[0m\u001b[0m\n",
      "\u001b[1;32m~\\Anaconda3\\envs\\nlp\\lib\\site-packages\\tensorflow\\python\\framework\\ops.py\u001b[0m in \u001b[0;36m__init__\u001b[1;34m(self, node_def, g, inputs, output_types, control_inputs, input_types, original_op, op_def)\u001b[0m\n\u001b[0;32m   2025\u001b[0m           op_def, inputs, node_def.attr)\n\u001b[0;32m   2026\u001b[0m       self._c_op = _create_c_op(self._graph, node_def, grouped_inputs,\n\u001b[1;32m-> 2027\u001b[1;33m                                 control_input_ops)\n\u001b[0m\u001b[0;32m   2028\u001b[0m \u001b[1;33m\u001b[0m\u001b[0m\n\u001b[0;32m   2029\u001b[0m     \u001b[1;31m# Initialize self._outputs.\u001b[0m\u001b[1;33m\u001b[0m\u001b[1;33m\u001b[0m\u001b[1;33m\u001b[0m\u001b[0m\n",
      "\u001b[1;32m~\\Anaconda3\\envs\\nlp\\lib\\site-packages\\tensorflow\\python\\framework\\ops.py\u001b[0m in \u001b[0;36m_create_c_op\u001b[1;34m(graph, node_def, inputs, control_inputs)\u001b[0m\n\u001b[0;32m   1865\u001b[0m   \u001b[1;32mexcept\u001b[0m \u001b[0merrors\u001b[0m\u001b[1;33m.\u001b[0m\u001b[0mInvalidArgumentError\u001b[0m \u001b[1;32mas\u001b[0m \u001b[0me\u001b[0m\u001b[1;33m:\u001b[0m\u001b[1;33m\u001b[0m\u001b[1;33m\u001b[0m\u001b[0m\n\u001b[0;32m   1866\u001b[0m     \u001b[1;31m# Convert to ValueError for backwards compatibility.\u001b[0m\u001b[1;33m\u001b[0m\u001b[1;33m\u001b[0m\u001b[1;33m\u001b[0m\u001b[0m\n\u001b[1;32m-> 1867\u001b[1;33m     \u001b[1;32mraise\u001b[0m \u001b[0mValueError\u001b[0m\u001b[1;33m(\u001b[0m\u001b[0mstr\u001b[0m\u001b[1;33m(\u001b[0m\u001b[0me\u001b[0m\u001b[1;33m)\u001b[0m\u001b[1;33m)\u001b[0m\u001b[1;33m\u001b[0m\u001b[1;33m\u001b[0m\u001b[0m\n\u001b[0m\u001b[0;32m   1868\u001b[0m \u001b[1;33m\u001b[0m\u001b[0m\n\u001b[0;32m   1869\u001b[0m   \u001b[1;32mreturn\u001b[0m \u001b[0mc_op\u001b[0m\u001b[1;33m\u001b[0m\u001b[1;33m\u001b[0m\u001b[0m\n",
      "\u001b[1;31mValueError\u001b[0m: Cannot reshape a tensor with 90200 elements to shape [451,90200,1] (40680200 elements) for 'reshape_2/Reshape' (op: 'Reshape') with input shapes: [451,200], [3] and with input tensors computed as partial shapes: input[1] = [451,90200,1]."
     ]
    }
   ],
   "source": [
    "m = Reshape(target_shape=(90200, 1))(X)"
   ]
  },
  {
   "cell_type": "code",
   "execution_count": null,
   "metadata": {},
   "outputs": [],
   "source": [
    "m"
   ]
  }
 ],
 "metadata": {
  "celltoolbar": "Raw Cell Format",
  "kernelspec": {
   "display_name": "Python 3",
   "language": "python",
   "name": "python3"
  },
  "language_info": {
   "codemirror_mode": {
    "name": "ipython",
    "version": 3
   },
   "file_extension": ".py",
   "mimetype": "text/x-python",
   "name": "python",
   "nbconvert_exporter": "python",
   "pygments_lexer": "ipython3",
   "version": "3.7.3"
  }
 },
 "nbformat": 4,
 "nbformat_minor": 2
}
